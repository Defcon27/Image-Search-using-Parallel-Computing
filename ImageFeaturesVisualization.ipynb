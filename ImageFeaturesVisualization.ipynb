{
 "cells": [
  {
   "cell_type": "code",
   "execution_count": 2,
   "metadata": {},
   "outputs": [],
   "source": [
    "import os\n",
    "import cv2\n",
    "import numpy as np\n",
    "import matplotlib.pyplot as plt\n",
    "import time"
   ]
  },
  {
   "cell_type": "code",
   "execution_count": null,
   "metadata": {},
   "outputs": [],
   "source": [
    "image = cv2.imread(\"Image_Database/road.jpg\")\n",
    "image = cv2.cvtColor(image,cv2.COLOR_BGR2RGB)\n",
    "\n",
    "\n",
    "smallBlur = np.ones((20, 20), dtype=\"float\") * (1.0 / (20 * 20))\n",
    "\n",
    "filtered_image = cv2.filter2D(image, -1, smallBlur)\n",
    "\n",
    "f, (ax1, ax2) = plt.subplots(2, 1, figsize=(20,10))\n",
    "\n",
    "ax1.set_title('original gray')\n",
    "ax1.imshow(image, cmap='gray')\n",
    "ax2.set_title('blurred image')\n",
    "ax2.imshow(filtered_image, cmap='gray')\n",
    "plt.show()"
   ]
  }
 ],
 "metadata": {
  "kernelspec": {
   "display_name": "Python 3",
   "language": "python",
   "name": "python3"
  },
  "language_info": {
   "codemirror_mode": {
    "name": "ipython",
    "version": 3
   },
   "file_extension": ".py",
   "mimetype": "text/x-python",
   "name": "python",
   "nbconvert_exporter": "python",
   "pygments_lexer": "ipython3",
   "version": "3.7.4"
  }
 },
 "nbformat": 4,
 "nbformat_minor": 2
}
